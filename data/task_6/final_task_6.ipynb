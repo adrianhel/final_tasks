{
 "cells": [
  {
   "cell_type": "code",
   "execution_count": 2,
   "id": "1893b886-3754-4db4-a1ba-105a9473c2b6",
   "metadata": {},
   "outputs": [
    {
     "name": "stdout",
     "output_type": "stream",
     "text": [
      "25/08/08 12:27:33 WARN NativeCodeLoader: Unable to load native-hadoop library for your platform... using builtin-java classes where applicable\n"
     ]
    },
    {
     "name": "stderr",
     "output_type": "stream",
     "text": [
      "Setting default log level to \"WARN\".\n",
      "To adjust logging level use sc.setLogLevel(newLevel). For SparkR, use setLogLevel(newLevel).\n"
     ]
    }
   ],
   "source": [
    "from pyspark.sql import SparkSession\n",
    "from pyspark.sql.functions import col, count, sum, to_date\n",
    "\n",
    "# Создаем сессию Spark\n",
    "spark = SparkSession.builder \\\n",
    "    .appName(\"Log Analysis\") \\\n",
    "    .getOrCreate()"
   ]
  },
  {
   "cell_type": "code",
   "execution_count": 25,
   "id": "18257b10-78ac-4e23-a4f7-423af0eebe10",
   "metadata": {},
   "outputs": [],
   "source": [
    "# Загружаем данные логов в DataFrame\n",
    "logs_df = spark.read.csv(\"web_server_logs.csv\", header=True, inferSchema=True)"
   ]
  },
  {
   "cell_type": "code",
   "execution_count": 14,
   "id": "5957530c-5998-466f-b4fe-8b3366327f65",
   "metadata": {},
   "outputs": [
    {
     "name": "stdout",
     "output_type": "stream",
     "text": [
      "Top 10 active IP addresses:\n",
      "+--------------+-------------+\n",
      "|            ip|request_count|\n",
      "+--------------+-------------+\n",
      "| 215.176.48.26|            2|\n",
      "|153.115.56.165|            1|\n",
      "|174.65.158.114|            1|\n",
      "| 142.46.150.38|            1|\n",
      "|  30.123.67.99|            1|\n",
      "|116.45.191.160|            1|\n",
      "| 83.147.47.217|            1|\n",
      "|24.220.176.221|            1|\n",
      "| 219.67.80.249|            1|\n",
      "|56.177.216.254|            1|\n",
      "+--------------+-------------+\n",
      "\n"
     ]
    }
   ],
   "source": [
    "# 1. Сгруппировать данные по IP и посчитать количество запросов для каждого IP\n",
    "active_ips = logs_df.groupBy(\"ip\").agg(count(\"*\").alias(\"request_count\")) \\\n",
    "    .orderBy(col(\"request_count\").desc()) \\\n",
    "    .limit(10)\n",
    "\n",
    "print(\"Top 10 active IP addresses:\")\n",
    "active_ips.show()"
   ]
  },
  {
   "cell_type": "code",
   "execution_count": 16,
   "id": "f299c59e-96d4-4748-913c-7a09861ad042",
   "metadata": {},
   "outputs": [
    {
     "name": "stdout",
     "output_type": "stream",
     "text": [
      "Request count by HTTP method:\n",
      "+------+-------------+\n",
      "|method|request_count|\n",
      "+------+-------------+\n",
      "|  POST|        25245|\n",
      "|DELETE|        24871|\n",
      "|   PUT|        25029|\n",
      "|   GET|        24855|\n",
      "+------+-------------+\n",
      "\n"
     ]
    }
   ],
   "source": [
    "# 2. Сгруппировать данные по HTTP-методу и посчитать количество запросов для каждого метода\n",
    "http_methods = logs_df.groupBy(\"method\").agg(count(\"*\").alias(\"request_count\"))\n",
    "\n",
    "print(\"Request count by HTTP method:\")\n",
    "http_methods.show()"
   ]
  },
  {
   "cell_type": "code",
   "execution_count": 17,
   "id": "acc71e2b-ebb4-45bc-b197-97985f8cfd8c",
   "metadata": {},
   "outputs": [
    {
     "name": "stdout",
     "output_type": "stream",
     "text": [
      "Number of 404 response codes: 25203\n"
     ]
    }
   ],
   "source": [
    "# 3. Профильтровать и посчитать количество запросов с кодом ответа 404\n",
    "not_found_count = logs_df.filter(col(\"response_code\") == 404).count()\n",
    "\n",
    "print(f\"Number of 404 response codes: {not_found_count}\")"
   ]
  },
  {
   "cell_type": "code",
   "execution_count": null,
   "id": "7e343d6b-b7ab-435b-bfee-e108587881cf",
   "metadata": {},
   "outputs": [],
   "source": []
  },
  {
   "cell_type": "code",
   "execution_count": 29,
   "id": "63074665-5510-4a6c-abf4-58347d8c0858",
   "metadata": {},
   "outputs": [
    {
     "name": "stdout",
     "output_type": "stream",
     "text": [
      "Total response size by day:\n",
      "+----------+-------------------+\n",
      "|      date|total_response_size|\n",
      "+----------+-------------------+\n",
      "|2025-01-01|            2378848|\n",
      "|2025-01-02|            2261159|\n",
      "|2025-01-03|            2249441|\n",
      "|2025-01-04|            2116138|\n",
      "|2025-01-05|            2287015|\n",
      "|2025-01-06|            2295584|\n",
      "|2025-01-07|            2243026|\n",
      "|2025-01-08|            2044661|\n",
      "|2025-01-09|            2484495|\n",
      "|2025-01-10|            2257060|\n",
      "|2025-01-11|            2342658|\n",
      "|2025-01-12|            2220594|\n",
      "|2025-01-13|            2291610|\n",
      "|2025-01-14|            2311337|\n",
      "|2025-01-15|            2445778|\n",
      "|2025-01-16|            2152530|\n",
      "|2025-01-17|            2216470|\n",
      "|2025-01-18|            2184526|\n",
      "|2025-01-19|            2574248|\n",
      "|2025-01-20|            2247567|\n",
      "+----------+-------------------+\n",
      "only showing top 20 rows\n",
      "\n"
     ]
    }
   ],
   "source": [
    "# 4. Сгруппировать данные по дате и просуммировать размер ответов, сортируя по дате\n",
    "response_size_by_date = logs_df.groupBy(to_date(col(\"timestamp\")).alias(\"date\")) \\\n",
    "    .agg(sum(\"response_size\").alias(\"total_response_size\")) \\\n",
    "    .orderBy(\"date\")\n",
    "\n",
    "print(\"Total response size by day:\")\n",
    "response_size_by_date.show()"
   ]
  },
  {
   "cell_type": "code",
   "execution_count": 30,
   "id": "c2ee1a82-367f-42a5-b76b-8c6da7f56acc",
   "metadata": {},
   "outputs": [],
   "source": [
    "# Остановка сессии Spark\n",
    "spark.stop()"
   ]
  },
  {
   "cell_type": "code",
   "execution_count": null,
   "id": "6ee6172f-4bc8-4575-94cf-646014ae6fa2",
   "metadata": {},
   "outputs": [],
   "source": []
  }
 ],
 "metadata": {
  "kernelspec": {
   "display_name": "Python 3 (ipykernel)",
   "language": "python",
   "name": "python3"
  },
  "language_info": {
   "codemirror_mode": {
    "name": "ipython",
    "version": 3
   },
   "file_extension": ".py",
   "mimetype": "text/x-python",
   "name": "python",
   "nbconvert_exporter": "python",
   "pygments_lexer": "ipython3",
   "version": "3.8.20"
  }
 },
 "nbformat": 4,
 "nbformat_minor": 5
}
